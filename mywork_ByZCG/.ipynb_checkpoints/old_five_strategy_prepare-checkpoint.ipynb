{
 "cells": [
  {
   "cell_type": "code",
   "execution_count": null,
   "id": "b5ac78cc",
   "metadata": {},
   "outputs": [],
   "source": [
    "import pandas as pd\n",
    "import numpy as np\n",
    "import pickle\n",
    "import time \n",
    "import os\n",
    "from datetime import datetime\n",
    "from operator import itemgetter\n",
    "\n",
    "# 需要什么读取什么不要一次性全都读取了，影响程序速度\n",
    "\n",
    "data_folder_path = '../'\n",
    "raw_data_path = \"../raw_data\"\n",
    "storage_path = \"../database_storage\"\n",
    "daily_path = \"../daily\"\n",
    "DTBS_path = os.path.join(storage_path, \"DTBS.pkl\")\n",
    "DCBS_path = os.path.join(storage_path, \"DCBS.pkl\")\n",
    "\n",
    "with open('database_ByZCG\\\\DCBS_DataFrame.pkl', 'rb') as f:  \n",
    "    DCBS_DataFrame = pickle.load(f)\n",
    "    \n",
    "\"\"\"\n",
    "with open('database_ByZCG\\\\DTBS_DataFrame.pkl', 'rb') as f:  \n",
    "    DTBS_DataFrame = pickle.load(f)\n",
    "\"\"\"  \n",
    "\n",
    "with open('database_ByZCG\\\\A_ConvertibleBondTimeSeries_DataFrame.pkl', 'rb') as f:  \n",
    "    A_ConvertibleBondTimeSeries_DataFrame = pickle.load(f)\n",
    "    \n",
    "# re-open\n",
    "with open(DTBS_path, 'rb') as f:  \n",
    "    DTBS = pickle.load(f)\n",
    "    \n",
    "# 只提取A区中存活的转债的时间序列信息\n",
    "A_DF = A_ConvertibleBondTimeSeries_DataFrame[A_ConvertibleBondTimeSeries_DataFrame['ia']==1].copy()\n",
    "\n",
    "# 计算所有转债每天的涨跌幅，并找出涨幅大于前N个交易日的q分位数涨跌幅的均值的转债"
   ]
  },
  {
   "cell_type": "code",
   "execution_count": null,
   "id": "8c43e148",
   "metadata": {},
   "outputs": [],
   "source": []
  }
 ],
 "metadata": {
  "kernelspec": {
   "display_name": "Python 3 (ipykernel)",
   "language": "python",
   "name": "python3"
  },
  "language_info": {
   "codemirror_mode": {
    "name": "ipython",
    "version": 3
   },
   "file_extension": ".py",
   "mimetype": "text/x-python",
   "name": "python",
   "nbconvert_exporter": "python",
   "pygments_lexer": "ipython3",
   "version": "3.10.9"
  }
 },
 "nbformat": 4,
 "nbformat_minor": 5
}
