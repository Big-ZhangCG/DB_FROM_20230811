{
 "cells": [
  {
   "cell_type": "code",
   "execution_count": 37,
   "id": "d34a6b64",
   "metadata": {},
   "outputs": [],
   "source": [
    "# 这个文件主要是为了 修改/更新 DTBS的C区中 国证2000指数\n",
    "\n",
    "import pandas as pd\n",
    "import numpy as np\n",
    "import pickle\n",
    "import time \n",
    "import os\n",
    "from datetime import datetime\n",
    "from operator import itemgetter\n",
    "\n",
    "data_folder_path = '../'\n",
    "raw_data_path = \"../raw_data\"\n",
    "storage_path = \"../database_storage\"\n",
    "daily_path = \"../daily\"\n",
    "DTBS_path = os.path.join(storage_path, \"DTBS.pkl\")\n",
    "DCBS_path = os.path.join(storage_path, \"DCBS.pkl\")\n",
    "with open(DTBS_path, 'rb') as f:  \n",
    "    DTBS = pickle.load(f)"
   ]
  },
  {
   "cell_type": "code",
   "execution_count": 38,
   "id": "7bccd516",
   "metadata": {},
   "outputs": [],
   "source": [
    "query_date_list = sorted(DTBS['C']['zi'].keys())\n",
    "start_day = query_date_list[0]\n",
    "end_day = query_date_list[-1]"
   ]
  },
  {
   "cell_type": "code",
   "execution_count": 39,
   "id": "5722d087",
   "metadata": {},
   "outputs": [],
   "source": [
    "from WindPy import w\n",
    "w.start()\n",
    "gz2000 = w.wsd(\"399303.SZ\", \"close\", start_day, end_day, \"\").Data[0]"
   ]
  },
  {
   "cell_type": "code",
   "execution_count": 40,
   "id": "8bc7fd8a",
   "metadata": {},
   "outputs": [],
   "source": [
    "# DTBS['C']['gz2000'] = {}\n",
    "for date_index in range(len(query_date_list)):\n",
    "    query_date = query_date_list[date_index]\n",
    "    gz2000_value = gz2000[date_index]\n",
    "    DTBS['C']['gz2000'][query_date] = gz2000_value"
   ]
  },
  {
   "cell_type": "code",
   "execution_count": 41,
   "id": "7ad36025",
   "metadata": {},
   "outputs": [
    {
     "data": {
      "text/plain": [
       "8010.4752"
      ]
     },
     "execution_count": 41,
     "metadata": {},
     "output_type": "execute_result"
    }
   ],
   "source": [
    "DTBS['C']['gz2000']['2023-08-08']"
   ]
  },
  {
   "cell_type": "code",
   "execution_count": 36,
   "id": "46bf4cb2",
   "metadata": {},
   "outputs": [],
   "source": [
    "# 保存上面的这些信息的更改\n",
    "f_save = open(DTBS_path, 'wb')\n",
    "pickle.dump(DTBS, f_save)\n",
    "f_save.close()"
   ]
  },
  {
   "cell_type": "code",
   "execution_count": null,
   "id": "c223cb24",
   "metadata": {},
   "outputs": [],
   "source": []
  }
 ],
 "metadata": {
  "kernelspec": {
   "display_name": "Python 3 (ipykernel)",
   "language": "python",
   "name": "python3"
  },
  "language_info": {
   "codemirror_mode": {
    "name": "ipython",
    "version": 3
   },
   "file_extension": ".py",
   "mimetype": "text/x-python",
   "name": "python",
   "nbconvert_exporter": "python",
   "pygments_lexer": "ipython3",
   "version": "3.10.9"
  }
 },
 "nbformat": 4,
 "nbformat_minor": 5
}
