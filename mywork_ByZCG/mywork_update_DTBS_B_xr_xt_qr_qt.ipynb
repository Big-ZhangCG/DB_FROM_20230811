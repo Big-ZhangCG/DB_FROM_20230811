{
 "cells": [
  {
   "cell_type": "code",
   "execution_count": 1,
   "id": "6715b5a0",
   "metadata": {},
   "outputs": [],
   "source": [
    "# 这个文件主要是为了修改DTBS的B区中  xr\\xt1\\xt2\\qr\\qt1\\qt2\n",
    "# 是更新A区qs、xx信息之前的准备工作\n",
    "\n",
    "import pandas as pd\n",
    "import numpy as np\n",
    "import pickle\n",
    "import time \n",
    "import os\n",
    "from datetime import datetime\n",
    "from operator import itemgetter\n",
    "\n",
    "data_folder_path = '../'\n",
    "raw_data_path = \"../raw_data\"\n",
    "storage_path = \"../database_storage\"\n",
    "daily_path = \"../daily\"\n",
    "DTBS_path = os.path.join(storage_path, \"DTBS.pkl\")\n",
    "DCBS_path = os.path.join(storage_path, \"DCBS.pkl\")\n",
    "with open(DTBS_path, 'rb') as f:  \n",
    "    DTBS = pickle.load(f)"
   ]
  },
  {
   "cell_type": "code",
   "execution_count": 3,
   "id": "4aa25349",
   "metadata": {},
   "outputs": [
    {
     "name": "stdout",
     "output_type": "stream",
     "text": [
      "[]\n",
      "[['CWSDService:invalid windcodes.']] \n",
      " [['CWSDService:invalid windcodes.']] \n",
      " [['CWSDService:invalid windcodes.']] \n",
      " [['CWSDService:invalid windcodes.']] \n",
      " [['CWSDService:invalid windcodes.']] \n",
      " [['CWSDService:invalid windcodes.']]\n",
      "{'ipo': '2023-07-13', 'dld': '2046-01-01', 'cn': 'N李子转', 'sc': '605337.SH', 'sn': '李子园', 'cat1': nan, 'cat2': nan, 'qt1': 15.0, 'qt2': 30.0, 'qr': 130.0, 'xt1': 15.0, 'xt2': 30.0, 'xr': 80.0}\n"
     ]
    }
   ],
   "source": [
    "from WindPy import w\n",
    "\n",
    "need_add_xxqs_bond_code_list = []\n",
    "\n",
    "for bond_code,informations in DTBS['B'].items():\n",
    "    if 'xr' not in informations.keys():\n",
    "        need_add_xxqs_bond_code_list.append(bond_code)\n",
    "\n",
    "print(need_add_xxqs_bond_code_list)\n",
    "\"\"\"\n",
    "# 这里是需要更新的代码列表，要需要更改，通过wind获取下面这些转债的强赎和下修的信息\n",
    "need_add_xxqs_bond_code_list = ['118035.SH','123199.SZ','123198.SZ','127086.SZ',\n",
    "                                '111014.SH','123200.SZ','127087.SZ','123201.SZ',\n",
    "                                '123203.SZ','127088.SZ','118036.SH']\n",
    "\"\"\"\n",
    "\n",
    "# 这个时间可以不改，理论上转债的条款不会发生变化\n",
    "date = datetime.today().strftime('%Y-%m-%d')\n",
    "\n",
    "w.start()\n",
    "\n",
    "Wind_qt1 = w.wsd(need_add_xxqs_bond_code_list, \"clause_calloption_redeemspan\", date, date, \"\").Data\n",
    "Wind_qt2 = w.wsd(need_add_xxqs_bond_code_list, \"clause_calloption_redeemmaxspan\", date, date, \"\").Data\n",
    "Wind_qr = w.wsd(need_add_xxqs_bond_code_list, \"clause_calloption_triggerproportion\", date, date, \"\").Data\n",
    "\n",
    "Wind_xt1 = w.wsd(need_add_xxqs_bond_code_list, \"clause_reset_resettimespan\", date, date, \"\").Data\n",
    "Wind_xt2 = w.wsd(need_add_xxqs_bond_code_list, \"clause_reset_resetmaxtimespan\", date, date, \"\").Data\n",
    "Wind_xr = w.wsd(need_add_xxqs_bond_code_list, \"clause_reset_resettriggerratio\", date, date, \"\").Data\n",
    "\n",
    "print(Wind_qt1, '\\n', Wind_qt2, '\\n', Wind_qr, '\\n', Wind_xt1, '\\n', Wind_xt2, '\\n', Wind_xr)\n",
    "\n",
    "for bond_code_index in range(len(need_add_xxqs_bond_code_list)):\n",
    "    bond_code = need_add_xxqs_bond_code_list[bond_code_index]\n",
    "    \n",
    "    DTBS['B'][bond_code]['qt1'] = Wind_qt1[0][bond_code_index]\n",
    "    DTBS['B'][bond_code]['qt2'] = Wind_qt2[0][bond_code_index]\n",
    "    DTBS['B'][bond_code]['qr'] = Wind_qr[0][bond_code_index]\n",
    "    DTBS['B'][bond_code]['xt1'] = Wind_xt1[0][bond_code_index]\n",
    "    DTBS['B'][bond_code]['xt2'] = Wind_xt2[0][bond_code_index]\n",
    "    DTBS['B'][bond_code]['xr'] = Wind_xr[0][bond_code_index]\n",
    "\n",
    "print(DTBS['B']['111014.SH'])"
   ]
  },
  {
   "cell_type": "code",
   "execution_count": 4,
   "id": "129832d4",
   "metadata": {},
   "outputs": [],
   "source": [
    "# 保存上面的这些信息的更改\n",
    "\n",
    "f_save = open(DTBS_path, 'wb')\n",
    "pickle.dump(DTBS, f_save)\n",
    "f_save.close()"
   ]
  },
  {
   "cell_type": "code",
   "execution_count": null,
   "id": "bb1bd184",
   "metadata": {},
   "outputs": [],
   "source": []
  },
  {
   "cell_type": "code",
   "execution_count": null,
   "id": "26edeea6",
   "metadata": {},
   "outputs": [],
   "source": []
  }
 ],
 "metadata": {
  "kernelspec": {
   "display_name": "Python 3 (ipykernel)",
   "language": "python",
   "name": "python3"
  },
  "language_info": {
   "codemirror_mode": {
    "name": "ipython",
    "version": 3
   },
   "file_extension": ".py",
   "mimetype": "text/x-python",
   "name": "python",
   "nbconvert_exporter": "python",
   "pygments_lexer": "ipython3",
   "version": "3.10.9"
  }
 },
 "nbformat": 4,
 "nbformat_minor": 5
}
